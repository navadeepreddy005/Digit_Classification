{
 "cells": [
  {
   "cell_type": "markdown",
   "id": "9bdeb0b4-b8c9-441c-93e7-0770b1539d9c",
   "metadata": {},
   "source": [
    "# Using Logistic Regression Model"
   ]
  },
  {
   "cell_type": "code",
   "execution_count": 1,
   "id": "97723f8e-d46e-46f1-8ccb-b4b179db02b1",
   "metadata": {},
   "outputs": [
    {
     "name": "stdout",
     "output_type": "stream",
     "text": [
      "Model Accuracy: 0.9203571428571429\n"
     ]
    }
   ],
   "source": [
    "import numpy as np\n",
    "from sklearn.datasets import fetch_openml\n",
    "from sklearn.model_selection import train_test_split\n",
    "from sklearn.linear_model import LogisticRegression\n",
    "from sklearn.metrics import accuracy_score\n",
    "import matplotlib.pyplot as plt\n",
    "\n",
    "# Step 1: Load and Prepare the MNIST Dataset\n",
    "mnist = fetch_openml('mnist_784', version=1)\n",
    "X, y = mnist.data, mnist.target\n",
    "\n",
    "# Normalize the data\n",
    "X = X / 255.0\n",
    "y = y.astype(int)\n",
    "\n",
    "# Split into training and testing sets\n",
    "X_train, X_test, y_train, y_test = train_test_split(X, y, test_size=0.2, random_state=42)\n",
    "\n",
    "# Step 2: Train the Logistic Regression Model\n",
    "model = LogisticRegression(max_iter=1000)\n",
    "model.fit(X_train, y_train)\n",
    "\n",
    "# Evaluate the model\n",
    "y_pred = model.predict(X_test)\n",
    "print(\"Model Accuracy:\", accuracy_score(y_test, y_pred))"
   ]
  },
  {
   "cell_type": "markdown",
   "id": "fa406f71-914a-4326-bcc6-b7985dbda29b",
   "metadata": {},
   "source": [
    "# Uisng Random Forest Classifier"
   ]
  },
  {
   "cell_type": "code",
   "execution_count": 2,
   "id": "cd4fb6bc-85da-44bb-9b18-e40cd7f1cc8a",
   "metadata": {},
   "outputs": [
    {
     "name": "stdout",
     "output_type": "stream",
     "text": [
      "Model Accuracy: 0.9675\n"
     ]
    }
   ],
   "source": [
    "import numpy as np\n",
    "from sklearn.datasets import fetch_openml\n",
    "from sklearn.model_selection import train_test_split\n",
    "from sklearn.ensemble import RandomForestClassifier  # Import Random Forest\n",
    "from sklearn.metrics import accuracy_score\n",
    "import matplotlib.pyplot as plt\n",
    "# Step 1: Load and Prepare the MNIST Dataset\n",
    "mnist = fetch_openml('mnist_784', version=1)\n",
    "X, y = mnist.data, mnist.target\n",
    "\n",
    "# Normalize the data\n",
    "X = X / 255.0\n",
    "y = y.astype(int)\n",
    "\n",
    "# Split into training and testing sets\n",
    "X_train, X_test, y_train, y_test = train_test_split(X, y, test_size=0.2, random_state=42)\n",
    "\n",
    "# Step 2: Train the Random Forest Classifier\n",
    "model = RandomForestClassifier(n_estimators=100, random_state=42)\n",
    "model.fit(X_train, y_train)\n",
    "\n",
    "# Evaluate the model\n",
    "y_pred = model.predict(X_test)\n",
    "print(\"Model Accuracy:\", accuracy_score(y_test, y_pred))"
   ]
  },
  {
   "cell_type": "markdown",
   "id": "58388afa-2f24-4e75-b9bf-0de014829d79",
   "metadata": {},
   "source": [
    "# Uisng LightGBM Classifier"
   ]
  },
  {
   "cell_type": "code",
   "execution_count": 3,
   "id": "88c14028-16a4-4c5e-8e0a-4ab5485daadd",
   "metadata": {},
   "outputs": [
    {
     "name": "stdout",
     "output_type": "stream",
     "text": [
      "[LightGBM] [Info] Auto-choosing col-wise multi-threading, the overhead of testing was 0.307421 seconds.\n",
      "You can set `force_col_wise=true` to remove the overhead.\n",
      "[LightGBM] [Info] Total Bins 108666\n",
      "[LightGBM] [Info] Number of data points in the train set: 56000, number of used features: 626\n",
      "[LightGBM] [Info] Start training from score -2.309754\n",
      "[LightGBM] [Info] Start training from score -2.188460\n",
      "[LightGBM] [Info] Start training from score -2.300801\n",
      "[LightGBM] [Info] Start training from score -2.283483\n",
      "[LightGBM] [Info] Start training from score -2.315345\n",
      "[LightGBM] [Info] Start training from score -2.407946\n",
      "[LightGBM] [Info] Start training from score -2.324247\n",
      "[LightGBM] [Info] Start training from score -2.269219\n",
      "[LightGBM] [Info] Start training from score -2.326439\n",
      "[LightGBM] [Info] Start training from score -2.313718\n",
      "Model Accuracy: 0.981\n"
     ]
    }
   ],
   "source": [
    "import numpy as np\n",
    "from sklearn.datasets import fetch_openml\n",
    "from sklearn.model_selection import train_test_split\n",
    "from sklearn.metrics import accuracy_score\n",
    "import lightgbm as lgb  # Import LightGBM\n",
    "import matplotlib.pyplot as plt\n",
    "# Step 1: Load and Prepare the MNIST Dataset\n",
    "mnist = fetch_openml('mnist_784', version=1)\n",
    "X, y = mnist.data, mnist.target\n",
    "\n",
    "# Normalize the data\n",
    "X = X / 255.0\n",
    "y = y.astype(int)\n",
    "\n",
    "# Split into training and testing sets\n",
    "X_train, X_test, y_train, y_test = train_test_split(X, y, test_size=0.2, random_state=42)\n",
    "\n",
    "# Step 2: Train the LightGBM Classifier\n",
    "model = lgb.LGBMClassifier(n_estimators=200, learning_rate=0.1, random_state=42)\n",
    "model.fit(X_train, y_train)\n",
    "\n",
    "# Evaluate the model\n",
    "y_pred = model.predict(X_test)\n",
    "print(\"Model Accuracy:\", accuracy_score(y_test, y_pred))"
   ]
  },
  {
   "cell_type": "code",
   "execution_count": null,
   "id": "5d569823-9475-46ec-abf6-ef64992285af",
   "metadata": {},
   "outputs": [],
   "source": []
  },
  {
   "cell_type": "code",
   "execution_count": null,
   "id": "78d47977-abc9-4e7d-8922-e5c24153fd69",
   "metadata": {},
   "outputs": [],
   "source": []
  },
  {
   "cell_type": "markdown",
   "id": "5b8bb4ed-1180-4b5b-8a6a-3fe9ec6a00ed",
   "metadata": {},
   "source": [
    "# Visualizing Sample Data"
   ]
  },
  {
   "cell_type": "code",
   "execution_count": 4,
   "id": "89d955ec-80ae-495c-8307-a6c6ed6cffa2",
   "metadata": {},
   "outputs": [
    {
     "data": {
      "image/png": "[encoded data removed]",
      "text/plain": [
       "<Figure size 1000x500 with 10 Axes>"
      ]
     },
     "metadata": {},
     "output_type": "display_data"
    }
   ],
   "source": [
    "import matplotlib.pyplot as plt\n",
    "# Step 2: Visualize digits 0 to 9\n",
    "fig, axes = plt.subplots(2, 5, figsize=(10, 5))\n",
    "\n",
    "# Loop through the digits 0 to 9\n",
    "for i in range(10):\n",
    "    # Select the first image corresponding to each digit (use y == i to filter)\n",
    "    ax = axes[i // 5, i % 5]\n",
    "    ax.imshow(X[y == i].iloc[0].values.reshape(28, 28), cmap='gray')\n",
    "    ax.set_title(f\"Digit: {i}\")\n",
    "    ax.axis('off')  # Hide axes for better clarity\n",
    "\n",
    "# Adjust layout and display the plot\n",
    "plt.tight_layout()\n",
    "plt.show()"
   ]
  },
  {
   "cell_type": "markdown",
   "id": "948898c9-0e39-420d-b090-195da37c2934",
   "metadata": {},
   "source": [
    "# Saving the Model"
   ]
  },
  {
   "cell_type": "code",
   "execution_count": 7,
   "id": "1057b58b-fd37-448a-9233-e2fe24a8978e",
   "metadata": {},
   "outputs": [
    {
     "data": {
      "text/plain": [
       "['Digit_classification.joblib']"
      ]
     },
     "execution_count": 7,
     "metadata": {},
     "output_type": "execute_result"
    }
   ],
   "source": [
    "# After training your model, save it like this:\n",
    "model.booster_.save_model('Digit_classification.txt')  # LightGBM native format\n",
    "# OR using joblib:\n",
    "from joblib import dump\n",
    "dump(model, 'Digit_classification.joblib')  # Alternative method"
   ]
  },
  {
   "cell_type": "markdown",
   "id": "ff97566b-0ad2-4d6b-9a04-520e2e0f3aa3",
   "metadata": {},
   "source": [
    "# Testing-1"
   ]
  },
  {
   "cell_type": "code",
   "execution_count": null,
   "id": "4f414fe0-dadd-4e9e-b02c-78d9946ddd32",
   "metadata": {},
   "outputs": [],
   "source": [
    "from tkinter import *\n",
    "from PIL import Image, ImageDraw\n",
    "import PIL.ImageOps \n",
    "\n",
    "class DigitPredictorApp:\n",
    "    def __init__(self, root):\n",
    "        self.root = root\n",
    "        self.root.title(\"Digit Prediction\")\n",
    "        \n",
    "        # Create a canvas for drawing\n",
    "        self.canvas = Canvas(root, width=280, height=280, bg='white')\n",
    "        self.canvas.grid(row=0, column=0, padx=10, pady=10)\n",
    "\n",
    "        # Button to clear the canvas\n",
    "        self.clear_button = Button(root, text=\"Clear\", width=20, command=self.clear_canvas)\n",
    "        self.clear_button.grid(row=1, column=0, pady=5)\n",
    "\n",
    "        # Button to predict the drawn digit\n",
    "        self.predict_button = Button(root, text=\"Predict\", width=20, command=self.predict_digit)\n",
    "        self.predict_button.grid(row=2, column=0, pady=5)\n",
    "        \n",
    "        # Label to display the prediction result\n",
    "        self.result_label = Label(root, text=\"Predicted Digit: \", font=(\"Helvetica\", 16))\n",
    "        self.result_label.grid(row=3, column=0, pady=10)\n",
    "\n",
    "        # Initialize the drawing\n",
    "        self.image = Image.new('L', (280, 280), color=(255))\n",
    "        self.draw = ImageDraw.Draw(self.image)\n",
    "        self.old_x = None\n",
    "        self.old_y = None\n",
    "        self.marker_size = 15\n",
    "\n",
    "        # Bind mouse events for drawing\n",
    "        self.canvas.bind(\"<B1-Motion>\", self.paint)\n",
    "        self.canvas.bind(\"<ButtonRelease-1>\", self.reset)\n",
    "\n",
    "    def clear_canvas(self):\n",
    "        self.canvas.delete(\"all\")\n",
    "        self.image = Image.new('L', (280, 280), color=(255))\n",
    "        self.draw = ImageDraw.Draw(self.image)\n",
    "        self.result_label.config(text=\"Predicted Digit: \")\n",
    "\n",
    "    def paint(self, event):\n",
    "        x, y = event.x, event.y\n",
    "        if self.old_x and self.old_y:\n",
    "            self.canvas.create_line((self.old_x, self.old_y, x, y), width=self.marker_size, fill='black', capstyle=ROUND, smooth=TRUE)\n",
    "            self.draw.line([self.old_x, self.old_y, x, y], fill=0, width=self.marker_size)\n",
    "        self.old_x = x\n",
    "        self.old_y = y\n",
    "\n",
    "    def reset(self, event):\n",
    "        self.old_x = None\n",
    "        self.old_y = None\n",
    "\n",
    "    def predict_digit(self):\n",
    "        # Convert the image to grayscale (already in grayscale)\n",
    "        img_resized = self.image.resize((28, 28))  # Resize to 28x28\n",
    "        img_inverted = PIL.ImageOps.invert(img_resized)  # Invert the image to match MNIST style\n",
    "\n",
    "        # Convert to numpy array and normalize\n",
    "        img_array = np.array(img_inverted) / 255.0  # Normalize to 0-1\n",
    "        img_array = img_array.reshape(1, -1)  # Flatten to 1D array for the model\n",
    "\n",
    "        # Predict using the logistic regression model\n",
    "        prediction = model.predict(img_array)\n",
    "        self.result_label.config(text=f\"Predicted Digit: {prediction[0]}\")\n",
    "\n",
    "# Create the main Tkinter window\n",
    "root = Tk()\n",
    "app = DigitPredictorApp(root)\n",
    "root.mainloop()"
   ]
  },
  {
   "cell_type": "code",
   "execution_count": null,
   "id": "f2f2f478-aace-4ebf-a050-3c87bc6b8591",
   "metadata": {},
   "outputs": [],
   "source": []
  },
  {
   "cell_type": "markdown",
   "id": "d388d899-9296-48c0-bfc4-e13a500ca9d9",
   "metadata": {},
   "source": [
    "# Testing-2"
   ]
  },
  {
   "cell_type": "code",
   "execution_count": 8,
   "id": "a8a05474-3780-42c6-bfda-305a02586f2b",
   "metadata": {},
   "outputs": [
    {
     "name": "stderr",
     "output_type": "stream",
     "text": [
      "C:\\Users\\munib\\AppData\\Local\\Programs\\Python\\Python313\\Lib\\site-packages\\sklearn\\utils\\deprecation.py:151: FutureWarning: 'force_all_finite' was renamed to 'ensure_all_finite' in 1.6 and will be removed in 1.8.\n",
      "  warnings.warn(\n",
      "C:\\Users\\munib\\AppData\\Local\\Programs\\Python\\Python313\\Lib\\site-packages\\sklearn\\utils\\deprecation.py:151: FutureWarning: 'force_all_finite' was renamed to 'ensure_all_finite' in 1.6 and will be removed in 1.8.\n",
      "  warnings.warn(\n",
      "C:\\Users\\munib\\AppData\\Local\\Programs\\Python\\Python313\\Lib\\site-packages\\sklearn\\utils\\deprecation.py:151: FutureWarning: 'force_all_finite' was renamed to 'ensure_all_finite' in 1.6 and will be removed in 1.8.\n",
      "  warnings.warn(\n",
      "C:\\Users\\munib\\AppData\\Local\\Programs\\Python\\Python313\\Lib\\site-packages\\sklearn\\utils\\deprecation.py:151: FutureWarning: 'force_all_finite' was renamed to 'ensure_all_finite' in 1.6 and will be removed in 1.8.\n",
      "  warnings.warn(\n",
      "C:\\Users\\munib\\AppData\\Local\\Programs\\Python\\Python313\\Lib\\site-packages\\sklearn\\utils\\deprecation.py:151: FutureWarning: 'force_all_finite' was renamed to 'ensure_all_finite' in 1.6 and will be removed in 1.8.\n",
      "  warnings.warn(\n",
      "C:\\Users\\munib\\AppData\\Local\\Programs\\Python\\Python313\\Lib\\site-packages\\sklearn\\utils\\deprecation.py:151: FutureWarning: 'force_all_finite' was renamed to 'ensure_all_finite' in 1.6 and will be removed in 1.8.\n",
      "  warnings.warn(\n",
      "C:\\Users\\munib\\AppData\\Local\\Programs\\Python\\Python313\\Lib\\site-packages\\sklearn\\utils\\deprecation.py:151: FutureWarning: 'force_all_finite' was renamed to 'ensure_all_finite' in 1.6 and will be removed in 1.8.\n",
      "  warnings.warn(\n",
      "C:\\Users\\munib\\AppData\\Local\\Programs\\Python\\Python313\\Lib\\site-packages\\sklearn\\utils\\deprecation.py:151: FutureWarning: 'force_all_finite' was renamed to 'ensure_all_finite' in 1.6 and will be removed in 1.8.\n",
      "  warnings.warn(\n",
      "C:\\Users\\munib\\AppData\\Local\\Programs\\Python\\Python313\\Lib\\site-packages\\sklearn\\utils\\deprecation.py:151: FutureWarning: 'force_all_finite' was renamed to 'ensure_all_finite' in 1.6 and will be removed in 1.8.\n",
      "  warnings.warn(\n",
      "C:\\Users\\munib\\AppData\\Local\\Programs\\Python\\Python313\\Lib\\site-packages\\sklearn\\utils\\deprecation.py:151: FutureWarning: 'force_all_finite' was renamed to 'ensure_all_finite' in 1.6 and will be removed in 1.8.\n",
      "  warnings.warn(\n"
     ]
    }
   ],
   "source": [
    "from tkinter import *\n",
    "from PIL import Image, ImageDraw\n",
    "import PIL.ImageOps \n",
    "import numpy as np\n",
    "import lightgbm as lgb\n",
    "from joblib import load\n",
    "\n",
    "class DigitPredictorApp:\n",
    "    def __init__(self, root):\n",
    "        self.root = root\n",
    "        self.root.title(\"Digit Prediction\")\n",
    "        \n",
    "        # Load the trained model\n",
    "        try:\n",
    "            # Try loading the joblib version first\n",
    "            self.model = load(\"E:/B Tech/Mini Project/Digit/Digit_classification.joblib\")\n",
    "        except:\n",
    "            # Fall back to LightGBM native format\n",
    "            self.model = lgb.LGBMClassifier()\n",
    "            self.model._Booster = lgb.Booster(model_file='Digit_classification.txt')\n",
    "        \n",
    "        # Create a canvas for drawing\n",
    "        self.canvas = Canvas(root, width=280, height=280, bg='white')\n",
    "        self.canvas.grid(row=0, column=0, padx=10, pady=10)\n",
    "\n",
    "        # Button to clear the canvas\n",
    "        self.clear_button = Button(root, text=\"Clear\", width=20, command=self.clear_canvas)\n",
    "        self.clear_button.grid(row=1, column=0, pady=5)\n",
    "\n",
    "        # Button to predict the drawn digit\n",
    "        self.predict_button = Button(root, text=\"Predict\", width=20, command=self.predict_digit)\n",
    "        self.predict_button.grid(row=2, column=0, pady=5)\n",
    "        \n",
    "        # Label to display the prediction result\n",
    "        self.result_label = Label(root, text=\"Predicted Digit: \", font=(\"Helvetica\", 16))\n",
    "        self.result_label.grid(row=3, column=0, pady=10)\n",
    "\n",
    "        # Initialize the drawing\n",
    "        self.image = Image.new('L', (280, 280), color=(255))\n",
    "        self.draw = ImageDraw.Draw(self.image)\n",
    "        self.old_x = None\n",
    "        self.old_y = None\n",
    "        self.marker_size = 15\n",
    "\n",
    "        # Bind mouse events for drawing\n",
    "        self.canvas.bind(\"<B1-Motion>\", self.paint)\n",
    "        self.canvas.bind(\"<ButtonRelease-1>\", self.reset)\n",
    "\n",
    "    def clear_canvas(self):\n",
    "        self.canvas.delete(\"all\")\n",
    "        self.image = Image.new('L', (280, 280), color=(255))\n",
    "        self.draw = ImageDraw.Draw(self.image)\n",
    "        self.result_label.config(text=\"Predicted Digit: \")\n",
    "\n",
    "    def paint(self, event):\n",
    "        x, y = event.x, event.y\n",
    "        if self.old_x and self.old_y:\n",
    "            self.canvas.create_line((self.old_x, self.old_y, x, y), width=self.marker_size, fill='black', capstyle=ROUND, smooth=TRUE)\n",
    "            self.draw.line([self.old_x, self.old_y, x, y], fill=0, width=self.marker_size)\n",
    "        self.old_x = x\n",
    "        self.old_y = y\n",
    "\n",
    "    def reset(self, event):\n",
    "        self.old_x = None\n",
    "        self.old_y = None\n",
    "\n",
    "    def predict_digit(self):\n",
    "        # Convert the image to MNIST format\n",
    "        img_resized = self.image.resize((28, 28))  # Resize to 28x28\n",
    "        img_inverted = PIL.ImageOps.invert(img_resized)  # Invert colors\n",
    "        \n",
    "        # Convert to numpy array and normalize (same as training)\n",
    "        img_array = np.array(img_inverted) / 255.0\n",
    "        img_array = img_array.reshape(1, -1)  # Flatten to 1x784\n",
    "        \n",
    "        # Make prediction\n",
    "        prediction = self.model.predict(img_array)\n",
    "        self.result_label.config(text=f\"Predicted Digit: {prediction[0]}\")\n",
    "\n",
    "# Create and run the application\n",
    "root = Tk()\n",
    "app = DigitPredictorApp(root)\n",
    "root.mainloop()"
   ]
  },
  {
   "cell_type": "markdown",
   "id": "9d11d0cf-fe50-427a-bdda-1c3152c5a14b",
   "metadata": {},
   "source": [
    "# Streamlit App"
   ]
  },
  {
   "cell_type": "code",
   "execution_count": 17,
   "id": "4e61f88e-986d-4911-bcec-fc135c9a32d7",
   "metadata": {},
   "outputs": [
    {
     "name": "stdout",
     "output_type": "stream",
     "text": [
      "Overwriting Digit.py\n"
     ]
    }
   ],
   "source": [
    "%%writefile Digit.py\n",
    "import streamlit as st\n",
    "from streamlit_drawable_canvas import st_canvas\n",
    "from PIL import Image, ImageDraw, ImageOps\n",
    "import numpy as np\n",
    "import lightgbm as lgb\n",
    "from joblib import load\n",
    "\n",
    "# Load the model (do this once when the app starts)\n",
    "@st.cache_resource\n",
    "def load_model():\n",
    "    try:\n",
    "        # Try loading the joblib version first\n",
    "        return load(\"E:/B Tech/Mini Project/Digit/Digit_classification.joblib\")\n",
    "    except:\n",
    "        # Fall back to LightGBM native format\n",
    "        model = lgb.LGBMClassifier()\n",
    "        model._Booster = lgb.Booster(model_file='E:/B Tech/Mini Project/Digit/Digit_classification.txt')\n",
    "        return model\n",
    "\n",
    "model = load_model()\n",
    "\n",
    "# Set up the app\n",
    "st.title(\"🧠 Digit Recognition App\")\n",
    "st.write(\"✏️ Draw a digit (0-9) in the box below and click **'Predict'**\")\n",
    "\n",
    "# Create a canvas component\n",
    "canvas_result = st_canvas(\n",
    "    fill_color=\"white\",\n",
    "    stroke_width=15,\n",
    "    stroke_color=\"black\",\n",
    "    background_color=\"white\",\n",
    "    height=280,\n",
    "    width=280,\n",
    "    drawing_mode=\"freedraw\",\n",
    "    key=\"canvas\",\n",
    ")\n",
    "\n",
    "# Add buttons\n",
    "col1, col2 = st.columns(2)\n",
    "with col1:\n",
    "    predict_btn = st.button(\"Predict\")\n",
    "\n",
    "# Prediction function\n",
    "def predict_digit(image):\n",
    "    # Resize to 28x28 and invert colors\n",
    "    img_resized = image.resize((28, 28))\n",
    "    img_inverted = ImageOps.invert(img_resized)\n",
    "\n",
    "    # Normalize and flatten\n",
    "    img_array = np.array(img_inverted) / 255.0\n",
    "    img_array = img_array.reshape(1, -1)\n",
    "\n",
    "    # Predict\n",
    "    prediction = model.predict(img_array)\n",
    "    return prediction[0]\n",
    "\n",
    "\n",
    "# Handle predict button\n",
    "if predict_btn:\n",
    "    if canvas_result.image_data is not None:\n",
    "        # Convert canvas to PIL Image\n",
    "        img = Image.fromarray((canvas_result.image_data[:, :, :3]).astype('uint8'))  # Use only RGB\n",
    "        img = img.convert(\"L\")  # Convert to grayscale\n",
    "\n",
    "        # Predict digit\n",
    "        digit = predict_digit(img)\n",
    "        st.success(f\"✅ Predicted Digit: **{digit}**\")\n",
    "    else:\n",
    "        st.warning(\"⚠️ Please draw a digit before clicking Predict.\")\n"
   ]
  }
 ],
 "metadata": {
  "kernelspec": {
   "display_name": "Python 3 (ipykernel)",
   "language": "python",
   "name": "python3"
  },
  "language_info": {
   "codemirror_mode": {
    "name": "ipython",
    "version": 3
   },
   "file_extension": ".py",
   "mimetype": "text/x-python",
   "name": "python",
   "nbconvert_exporter": "python",
   "pygments_lexer": "ipython3",
   "version": "3.13.1"
  }
 },
 "nbformat": 4,
 "nbformat_minor": 5
}
